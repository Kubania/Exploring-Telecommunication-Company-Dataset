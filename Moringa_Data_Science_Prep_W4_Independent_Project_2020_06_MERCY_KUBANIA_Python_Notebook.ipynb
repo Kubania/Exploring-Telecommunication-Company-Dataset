{
  "nbformat": 4,
  "nbformat_minor": 0,
  "metadata": {
    "colab": {
      "name": "Moringa_Data_Science_Prep_W4_Independent_Project_2020_06_MERCY_KUBANIA_Python_Notebook.ipynb",
      "provenance": [],
      "toc_visible": true,
      "authorship_tag": "ABX9TyNdl+rVAkE4NbW5E0MASiCl",
      "include_colab_link": true
    },
    "kernelspec": {
      "name": "python3",
      "display_name": "Python 3"
    }
  },
  "cells": [
    {
      "cell_type": "markdown",
      "metadata": {
        "id": "view-in-github",
        "colab_type": "text"
      },
      "source": [
        "<a href=\"https://colab.research.google.com/github/Kubania/Moringa-Project/blob/master/Moringa_Data_Science_Prep_W4_Independent_Project_2020_06_MERCY_KUBANIA_Python_Notebook.ipynb\" target=\"_parent\"><img src=\"https://colab.research.google.com/assets/colab-badge.svg\" alt=\"Open In Colab\"/></a>"
      ]
    },
    {
      "cell_type": "markdown",
      "metadata": {
        "id": "7aaxTi0ZHZKu",
        "colab_type": "text"
      },
      "source": [
        "# Load the Dataset"
      ]
    },
    {
      "cell_type": "code",
      "metadata": {
        "id": "z9IPegGKHVZb",
        "colab_type": "code",
        "colab": {}
      },
      "source": [
        "#import pandas and numpy libraries\n",
        "import pandas as pd\n",
        "import numpy as np"
      ],
      "execution_count": 0,
      "outputs": []
    },
    {
      "cell_type": "code",
      "metadata": {
        "id": "i0QgNqz9IJjj",
        "colab_type": "code",
        "colab": {}
      },
      "source": [
        "# load the dataset\n",
        "ecars = pd.read_csv('/content/Autolib_dataset.csv')"
      ],
      "execution_count": 0,
      "outputs": []
    },
    {
      "cell_type": "markdown",
      "metadata": {
        "id": "50DQ-WURHg24",
        "colab_type": "text"
      },
      "source": [
        "# Exploration"
      ]
    },
    {
      "cell_type": "code",
      "metadata": {
        "id": "ucPIehKlK7OT",
        "colab_type": "code",
        "outputId": "e95364e6-7aed-4714-ee11-91fe1ec56371",
        "colab": {
          "base_uri": "https://localhost:8080/",
          "height": 428
        }
      },
      "source": [
        "ecars.tail()"
      ],
      "execution_count": 0,
      "outputs": [
        {
          "output_type": "execute_result",
          "data": {
            "text/html": [
              "<div>\n",
              "<style scoped>\n",
              "    .dataframe tbody tr th:only-of-type {\n",
              "        vertical-align: middle;\n",
              "    }\n",
              "\n",
              "    .dataframe tbody tr th {\n",
              "        vertical-align: top;\n",
              "    }\n",
              "\n",
              "    .dataframe thead th {\n",
              "        text-align: right;\n",
              "    }\n",
              "</style>\n",
              "<table border=\"1\" class=\"dataframe\">\n",
              "  <thead>\n",
              "    <tr style=\"text-align: right;\">\n",
              "      <th></th>\n",
              "      <th>Address</th>\n",
              "      <th>Cars</th>\n",
              "      <th>Bluecar counter</th>\n",
              "      <th>Utilib counter</th>\n",
              "      <th>Utilib 1.4 counter</th>\n",
              "      <th>Charge Slots</th>\n",
              "      <th>Charging Status</th>\n",
              "      <th>City</th>\n",
              "      <th>Displayed comment</th>\n",
              "      <th>ID</th>\n",
              "      <th>Kind</th>\n",
              "      <th>Geo point</th>\n",
              "      <th>Postal code</th>\n",
              "      <th>Public name</th>\n",
              "      <th>Rental status</th>\n",
              "      <th>Scheduled at</th>\n",
              "      <th>Slots</th>\n",
              "      <th>Station type</th>\n",
              "      <th>Status</th>\n",
              "      <th>Subscription status</th>\n",
              "      <th>year</th>\n",
              "      <th>month</th>\n",
              "      <th>day</th>\n",
              "      <th>hour</th>\n",
              "      <th>minute</th>\n",
              "    </tr>\n",
              "  </thead>\n",
              "  <tbody>\n",
              "    <tr>\n",
              "      <th>4995</th>\n",
              "      <td>Quai de SÃ¨vres</td>\n",
              "      <td>0</td>\n",
              "      <td>0</td>\n",
              "      <td>0</td>\n",
              "      <td>0</td>\n",
              "      <td>0</td>\n",
              "      <td>nonexistent</td>\n",
              "      <td>SÃ¨vres</td>\n",
              "      <td>NaN</td>\n",
              "      <td>sevres-manufacturenationale-1</td>\n",
              "      <td>PARKING</td>\n",
              "      <td>48.82829, 2.22518</td>\n",
              "      <td>92310</td>\n",
              "      <td>SÃ¨vres/Manufacture Nationale/1</td>\n",
              "      <td>operational</td>\n",
              "      <td>NaN</td>\n",
              "      <td>6</td>\n",
              "      <td>station</td>\n",
              "      <td>ok</td>\n",
              "      <td>nonexistent</td>\n",
              "      <td>2018</td>\n",
              "      <td>4</td>\n",
              "      <td>5</td>\n",
              "      <td>1</td>\n",
              "      <td>28</td>\n",
              "    </tr>\n",
              "    <tr>\n",
              "      <th>4996</th>\n",
              "      <td>Quai de SÃ¨vres</td>\n",
              "      <td>0</td>\n",
              "      <td>0</td>\n",
              "      <td>0</td>\n",
              "      <td>0</td>\n",
              "      <td>0</td>\n",
              "      <td>nonexistent</td>\n",
              "      <td>SÃ¨vres</td>\n",
              "      <td>NaN</td>\n",
              "      <td>sevres-manufacturenationale-1</td>\n",
              "      <td>PARKING</td>\n",
              "      <td>48.82829, 2.22518</td>\n",
              "      <td>92310</td>\n",
              "      <td>SÃ¨vres/Manufacture Nationale/1</td>\n",
              "      <td>operational</td>\n",
              "      <td>NaN</td>\n",
              "      <td>5</td>\n",
              "      <td>station</td>\n",
              "      <td>ok</td>\n",
              "      <td>nonexistent</td>\n",
              "      <td>2018</td>\n",
              "      <td>4</td>\n",
              "      <td>5</td>\n",
              "      <td>7</td>\n",
              "      <td>44</td>\n",
              "    </tr>\n",
              "    <tr>\n",
              "      <th>4997</th>\n",
              "      <td>Quai de SÃ¨vres</td>\n",
              "      <td>4</td>\n",
              "      <td>4</td>\n",
              "      <td>1</td>\n",
              "      <td>0</td>\n",
              "      <td>0</td>\n",
              "      <td>nonexistent</td>\n",
              "      <td>SÃ¨vres</td>\n",
              "      <td>NaN</td>\n",
              "      <td>sevres-manufacturenationale-1</td>\n",
              "      <td>PARKING</td>\n",
              "      <td>48.82829, 2.22518</td>\n",
              "      <td>92310</td>\n",
              "      <td>SÃ¨vres/Manufacture Nationale/1</td>\n",
              "      <td>operational</td>\n",
              "      <td>NaN</td>\n",
              "      <td>1</td>\n",
              "      <td>station</td>\n",
              "      <td>ok</td>\n",
              "      <td>nonexistent</td>\n",
              "      <td>2018</td>\n",
              "      <td>4</td>\n",
              "      <td>2</td>\n",
              "      <td>2</td>\n",
              "      <td>23</td>\n",
              "    </tr>\n",
              "    <tr>\n",
              "      <th>4998</th>\n",
              "      <td>Quai de SÃ¨vres</td>\n",
              "      <td>0</td>\n",
              "      <td>0</td>\n",
              "      <td>0</td>\n",
              "      <td>0</td>\n",
              "      <td>0</td>\n",
              "      <td>nonexistent</td>\n",
              "      <td>SÃ¨vres</td>\n",
              "      <td>NaN</td>\n",
              "      <td>sevres-manufacturenationale-1</td>\n",
              "      <td>PARKING</td>\n",
              "      <td>48.82829, 2.22518</td>\n",
              "      <td>92310</td>\n",
              "      <td>SÃ¨vres/Manufacture Nationale/1</td>\n",
              "      <td>operational</td>\n",
              "      <td>NaN</td>\n",
              "      <td>6</td>\n",
              "      <td>station</td>\n",
              "      <td>ok</td>\n",
              "      <td>nonexistent</td>\n",
              "      <td>2018</td>\n",
              "      <td>4</td>\n",
              "      <td>4</td>\n",
              "      <td>5</td>\n",
              "      <td>16</td>\n",
              "    </tr>\n",
              "    <tr>\n",
              "      <th>4999</th>\n",
              "      <td>Quai de SÃ¨vres</td>\n",
              "      <td>6</td>\n",
              "      <td>6</td>\n",
              "      <td>0</td>\n",
              "      <td>0</td>\n",
              "      <td>0</td>\n",
              "      <td>nonexistent</td>\n",
              "      <td>SÃ¨vres</td>\n",
              "      <td>NaN</td>\n",
              "      <td>sevres-manufacturenationale-1</td>\n",
              "      <td>PARKING</td>\n",
              "      <td>48.82829, 2.22518</td>\n",
              "      <td>92310</td>\n",
              "      <td>SÃ¨vres/Manufacture Nationale/1</td>\n",
              "      <td>operational</td>\n",
              "      <td>NaN</td>\n",
              "      <td>0</td>\n",
              "      <td>station</td>\n",
              "      <td>ok</td>\n",
              "      <td>nonexistent</td>\n",
              "      <td>2018</td>\n",
              "      <td>4</td>\n",
              "      <td>7</td>\n",
              "      <td>16</td>\n",
              "      <td>31</td>\n",
              "    </tr>\n",
              "  </tbody>\n",
              "</table>\n",
              "</div>"
            ],
            "text/plain": [
              "              Address  Cars  Bluecar counter  ...  day  hour  minute\n",
              "4995  Quai de SÃ¨vres     0                0  ...    5     1      28\n",
              "4996  Quai de SÃ¨vres     0                0  ...    5     7      44\n",
              "4997  Quai de SÃ¨vres     4                4  ...    2     2      23\n",
              "4998  Quai de SÃ¨vres     0                0  ...    4     5      16\n",
              "4999  Quai de SÃ¨vres     6                6  ...    7    16      31\n",
              "\n",
              "[5 rows x 25 columns]"
            ]
          },
          "metadata": {
            "tags": []
          },
          "execution_count": 4
        }
      ]
    },
    {
      "cell_type": "code",
      "metadata": {
        "id": "eLN9joPJLNTP",
        "colab_type": "code",
        "outputId": "2c72f603-8ca8-452b-a598-e22a2ff4af14",
        "colab": {
          "base_uri": "https://localhost:8080/",
          "height": 34
        }
      },
      "source": [
        "ecars.shape"
      ],
      "execution_count": 0,
      "outputs": [
        {
          "output_type": "execute_result",
          "data": {
            "text/plain": [
              "(5000, 25)"
            ]
          },
          "metadata": {
            "tags": []
          },
          "execution_count": 5
        }
      ]
    },
    {
      "cell_type": "code",
      "metadata": {
        "id": "rjvKJbkyLCe5",
        "colab_type": "code",
        "outputId": "bbe54094-77bb-4f62-ff2f-7aece7b1a9fd",
        "colab": {
          "base_uri": "https://localhost:8080/",
          "height": 561
        }
      },
      "source": [
        "ecars.info()"
      ],
      "execution_count": 0,
      "outputs": [
        {
          "output_type": "stream",
          "text": [
            "<class 'pandas.core.frame.DataFrame'>\n",
            "RangeIndex: 5000 entries, 0 to 4999\n",
            "Data columns (total 25 columns):\n",
            " #   Column               Non-Null Count  Dtype \n",
            "---  ------               --------------  ----- \n",
            " 0   Address              5000 non-null   object\n",
            " 1   Cars                 5000 non-null   int64 \n",
            " 2   Bluecar counter      5000 non-null   int64 \n",
            " 3   Utilib counter       5000 non-null   int64 \n",
            " 4   Utilib 1.4 counter   5000 non-null   int64 \n",
            " 5   Charge Slots         5000 non-null   int64 \n",
            " 6   Charging Status      5000 non-null   object\n",
            " 7   City                 5000 non-null   object\n",
            " 8   Displayed comment    111 non-null    object\n",
            " 9   ID                   5000 non-null   object\n",
            " 10  Kind                 5000 non-null   object\n",
            " 11  Geo point            5000 non-null   object\n",
            " 12  Postal code          5000 non-null   int64 \n",
            " 13  Public name          5000 non-null   object\n",
            " 14  Rental status        5000 non-null   object\n",
            " 15  Scheduled at         47 non-null     object\n",
            " 16  Slots                5000 non-null   int64 \n",
            " 17  Station type         5000 non-null   object\n",
            " 18  Status               5000 non-null   object\n",
            " 19  Subscription status  5000 non-null   object\n",
            " 20  year                 5000 non-null   int64 \n",
            " 21  month                5000 non-null   int64 \n",
            " 22  day                  5000 non-null   int64 \n",
            " 23  hour                 5000 non-null   int64 \n",
            " 24  minute               5000 non-null   int64 \n",
            "dtypes: int64(12), object(13)\n",
            "memory usage: 976.7+ KB\n"
          ],
          "name": "stdout"
        }
      ]
    },
    {
      "cell_type": "markdown",
      "metadata": {
        "id": "1e9o8zE1HnIR",
        "colab_type": "text"
      },
      "source": [
        "# Data Cleaning"
      ]
    },
    {
      "cell_type": "markdown",
      "metadata": {
        "id": "l8PtXWfNcAVZ",
        "colab_type": "text"
      },
      "source": [
        "Validity"
      ]
    },
    {
      "cell_type": "code",
      "metadata": {
        "id": "a8o3t51-LVkn",
        "colab_type": "code",
        "colab": {}
      },
      "source": [
        "# Drop columns not needed for analysis\n",
        "ecars.drop([\"Geo point\",\"Public name\",\"Displayed comment\"],axis = 1, inplace= True)"
      ],
      "execution_count": 0,
      "outputs": []
    },
    {
      "cell_type": "code",
      "metadata": {
        "id": "5d3jgfZAWvBZ",
        "colab_type": "code",
        "outputId": "d9fa71d8-33ab-4af0-ffff-ae0ac3c6f58e",
        "colab": {
          "base_uri": "https://localhost:8080/",
          "height": 34
        }
      },
      "source": [
        "#Remove syntax errors: Description states Charging status has some typos \n",
        "#no typos\n",
        "ecars['Charging Status'].unique()"
      ],
      "execution_count": 0,
      "outputs": [
        {
          "output_type": "execute_result",
          "data": {
            "text/plain": [
              "array(['nonexistent', 'operational', 'broken'], dtype=object)"
            ]
          },
          "metadata": {
            "tags": []
          },
          "execution_count": 8
        }
      ]
    },
    {
      "cell_type": "code",
      "metadata": {
        "id": "N_Rdf5SNadSx",
        "colab_type": "code",
        "colab": {}
      },
      "source": [
        "#Remove all whitespaces\n",
        "for x in ecars.columns:\n",
        "  if ecars[x].dtypes == 'object':\n",
        "    ecars[x].str.strip()"
      ],
      "execution_count": 0,
      "outputs": []
    },
    {
      "cell_type": "markdown",
      "metadata": {
        "id": "LB8ep1N7cFgj",
        "colab_type": "text"
      },
      "source": [
        "Completeness"
      ]
    },
    {
      "cell_type": "code",
      "metadata": {
        "id": "Q-D0lfLyb8xo",
        "colab_type": "code",
        "outputId": "a98a3cfb-2f66-454e-fd5e-300f5dc631fb",
        "colab": {
          "base_uri": "https://localhost:8080/",
          "height": 408
        }
      },
      "source": [
        "# check for null values\n",
        "ecars.isnull().any()"
      ],
      "execution_count": 0,
      "outputs": [
        {
          "output_type": "execute_result",
          "data": {
            "text/plain": [
              "Address                False\n",
              "Cars                   False\n",
              "Bluecar counter        False\n",
              "Utilib counter         False\n",
              "Utilib 1.4 counter     False\n",
              "Charge Slots           False\n",
              "Charging Status        False\n",
              "City                   False\n",
              "ID                     False\n",
              "Kind                   False\n",
              "Postal code            False\n",
              "Rental status          False\n",
              "Scheduled at            True\n",
              "Slots                  False\n",
              "Station type           False\n",
              "Status                 False\n",
              "Subscription status    False\n",
              "year                   False\n",
              "month                  False\n",
              "day                    False\n",
              "hour                   False\n",
              "minute                 False\n",
              "dtype: bool"
            ]
          },
          "metadata": {
            "tags": []
          },
          "execution_count": 10
        }
      ]
    },
    {
      "cell_type": "code",
      "metadata": {
        "id": "LIx13hWydeg4",
        "colab_type": "code",
        "colab": {}
      },
      "source": [
        "# Has 47 out 5000 records\n",
        "ecars.drop('Scheduled at',axis =1 , inplace= True)"
      ],
      "execution_count": 0,
      "outputs": []
    },
    {
      "cell_type": "code",
      "metadata": {
        "id": "3Ca5pMJDekmY",
        "colab_type": "code",
        "colab": {}
      },
      "source": [
        "# Drop row where column with 'status' is future because the scheduled at corresponds to the [column] = future\n",
        "#future are stations that are not in operation\n",
        "#has future and drop by index\n",
        "future = ecars[ecars['Rental status'] == 'future'].index\n",
        "ecars.drop(future,inplace=True)"
      ],
      "execution_count": 0,
      "outputs": []
    },
    {
      "cell_type": "code",
      "metadata": {
        "id": "x-oH8FLMWc43",
        "colab_type": "code",
        "colab": {}
      },
      "source": [
        "# Drop rows where rental status is not operational\n",
        "non_op = ecars[ecars['Rental status'] != 'operational'].index\n",
        "ecars.drop(non_op,inplace= True)"
      ],
      "execution_count": 0,
      "outputs": []
    },
    {
      "cell_type": "code",
      "metadata": {
        "id": "R3QZApVygkew",
        "colab_type": "code",
        "outputId": "b33ee3b1-7088-4f84-f9e8-2c9dd4b251ec",
        "colab": {
          "base_uri": "https://localhost:8080/",
          "height": 391
        }
      },
      "source": [
        "ecars.isnull().any()"
      ],
      "execution_count": 0,
      "outputs": [
        {
          "output_type": "execute_result",
          "data": {
            "text/plain": [
              "Address                False\n",
              "Cars                   False\n",
              "Bluecar counter        False\n",
              "Utilib counter         False\n",
              "Utilib 1.4 counter     False\n",
              "Charge Slots           False\n",
              "Charging Status        False\n",
              "City                   False\n",
              "ID                     False\n",
              "Kind                   False\n",
              "Postal code            False\n",
              "Rental status          False\n",
              "Slots                  False\n",
              "Station type           False\n",
              "Status                 False\n",
              "Subscription status    False\n",
              "year                   False\n",
              "month                  False\n",
              "day                    False\n",
              "hour                   False\n",
              "minute                 False\n",
              "dtype: bool"
            ]
          },
          "metadata": {
            "tags": []
          },
          "execution_count": 14
        }
      ]
    },
    {
      "cell_type": "code",
      "metadata": {
        "id": "zeSd2MpQFfM7",
        "colab_type": "code",
        "outputId": "4b16ccd6-44bb-436e-e18d-16610057553d",
        "colab": {
          "base_uri": "https://localhost:8080/",
          "height": 493
        }
      },
      "source": [
        "ecars.info()"
      ],
      "execution_count": 0,
      "outputs": [
        {
          "output_type": "stream",
          "text": [
            "<class 'pandas.core.frame.DataFrame'>\n",
            "Int64Index: 4618 entries, 0 to 4999\n",
            "Data columns (total 21 columns):\n",
            " #   Column               Non-Null Count  Dtype \n",
            "---  ------               --------------  ----- \n",
            " 0   Address              4618 non-null   object\n",
            " 1   Cars                 4618 non-null   int64 \n",
            " 2   Bluecar counter      4618 non-null   int64 \n",
            " 3   Utilib counter       4618 non-null   int64 \n",
            " 4   Utilib 1.4 counter   4618 non-null   int64 \n",
            " 5   Charge Slots         4618 non-null   int64 \n",
            " 6   Charging Status      4618 non-null   object\n",
            " 7   City                 4618 non-null   object\n",
            " 8   ID                   4618 non-null   object\n",
            " 9   Kind                 4618 non-null   object\n",
            " 10  Postal code          4618 non-null   int64 \n",
            " 11  Rental status        4618 non-null   object\n",
            " 12  Slots                4618 non-null   int64 \n",
            " 13  Station type         4618 non-null   object\n",
            " 14  Status               4618 non-null   object\n",
            " 15  Subscription status  4618 non-null   object\n",
            " 16  year                 4618 non-null   int64 \n",
            " 17  month                4618 non-null   int64 \n",
            " 18  day                  4618 non-null   int64 \n",
            " 19  hour                 4618 non-null   int64 \n",
            " 20  minute               4618 non-null   int64 \n",
            "dtypes: int64(12), object(9)\n",
            "memory usage: 793.7+ KB\n"
          ],
          "name": "stdout"
        }
      ]
    },
    {
      "cell_type": "markdown",
      "metadata": {
        "id": "_AZlQq5dhAQG",
        "colab_type": "text"
      },
      "source": [
        "Consistency"
      ]
    },
    {
      "cell_type": "code",
      "metadata": {
        "id": "eXUm2TmwhDJ0",
        "colab_type": "code",
        "outputId": "b3f74cb4-5f4e-49a2-a2cc-41ad7f7e8adf",
        "colab": {
          "base_uri": "https://localhost:8080/",
          "height": 34
        }
      },
      "source": [
        "#check for duplicates\n",
        "ecars.duplicated().any()"
      ],
      "execution_count": 0,
      "outputs": [
        {
          "output_type": "execute_result",
          "data": {
            "text/plain": [
              "False"
            ]
          },
          "metadata": {
            "tags": []
          },
          "execution_count": 16
        }
      ]
    },
    {
      "cell_type": "markdown",
      "metadata": {
        "id": "eenlJE2bhND6",
        "colab_type": "text"
      },
      "source": [
        "Uniformity"
      ]
    },
    {
      "cell_type": "code",
      "metadata": {
        "id": "yPBYVhL6hKpB",
        "colab_type": "code",
        "outputId": "e6fa492d-10d4-4cb4-fd99-242759ebd5a8",
        "colab": {
          "base_uri": "https://localhost:8080/",
          "height": 119
        }
      },
      "source": [
        "#Fix messy columns\n",
        "ecars.columns = ecars.columns.str.strip().str.replace(\" \",\"_\").str.lower()\n",
        "ecars.columns"
      ],
      "execution_count": 0,
      "outputs": [
        {
          "output_type": "execute_result",
          "data": {
            "text/plain": [
              "Index(['address', 'cars', 'bluecar_counter', 'utilib_counter',\n",
              "       'utilib_1.4_counter', 'charge_slots', 'charging_status', 'city', 'id',\n",
              "       'kind', 'postal_code', 'rental_status', 'slots', 'station_type',\n",
              "       'status', 'subscription_status', 'year', 'month', 'day', 'hour',\n",
              "       'minute'],\n",
              "      dtype='object')"
            ]
          },
          "metadata": {
            "tags": []
          },
          "execution_count": 17
        }
      ]
    },
    {
      "cell_type": "code",
      "metadata": {
        "id": "TKEGVTqDhs6c",
        "colab_type": "code",
        "colab": {}
      },
      "source": [
        "# Data type conversation\n",
        "ecars['datetime'] = pd.to_datetime(ecars[['year','month','day','hour','minute']])"
      ],
      "execution_count": 0,
      "outputs": []
    },
    {
      "cell_type": "code",
      "metadata": {
        "id": "K0K2vM1zoBhz",
        "colab_type": "code",
        "outputId": "45bfc316-762e-49a8-8b22-201fb5c66241",
        "colab": {
          "base_uri": "https://localhost:8080/",
          "height": 510
        }
      },
      "source": [
        "ecars.info()"
      ],
      "execution_count": 0,
      "outputs": [
        {
          "output_type": "stream",
          "text": [
            "<class 'pandas.core.frame.DataFrame'>\n",
            "Int64Index: 4618 entries, 0 to 4999\n",
            "Data columns (total 22 columns):\n",
            " #   Column               Non-Null Count  Dtype         \n",
            "---  ------               --------------  -----         \n",
            " 0   address              4618 non-null   object        \n",
            " 1   cars                 4618 non-null   int64         \n",
            " 2   bluecar_counter      4618 non-null   int64         \n",
            " 3   utilib_counter       4618 non-null   int64         \n",
            " 4   utilib_1.4_counter   4618 non-null   int64         \n",
            " 5   charge_slots         4618 non-null   int64         \n",
            " 6   charging_status      4618 non-null   object        \n",
            " 7   city                 4618 non-null   object        \n",
            " 8   id                   4618 non-null   object        \n",
            " 9   kind                 4618 non-null   object        \n",
            " 10  postal_code          4618 non-null   int64         \n",
            " 11  rental_status        4618 non-null   object        \n",
            " 12  slots                4618 non-null   int64         \n",
            " 13  station_type         4618 non-null   object        \n",
            " 14  status               4618 non-null   object        \n",
            " 15  subscription_status  4618 non-null   object        \n",
            " 16  year                 4618 non-null   int64         \n",
            " 17  month                4618 non-null   int64         \n",
            " 18  day                  4618 non-null   int64         \n",
            " 19  hour                 4618 non-null   int64         \n",
            " 20  minute               4618 non-null   int64         \n",
            " 21  datetime             4618 non-null   datetime64[ns]\n",
            "dtypes: datetime64[ns](1), int64(12), object(9)\n",
            "memory usage: 829.8+ KB\n"
          ],
          "name": "stdout"
        }
      ]
    },
    {
      "cell_type": "markdown",
      "metadata": {
        "id": "hvxFIEWH6FZR",
        "colab_type": "text"
      },
      "source": [
        "Export to csv file"
      ]
    },
    {
      "cell_type": "code",
      "metadata": {
        "id": "R2o5E0nN6DnT",
        "colab_type": "code",
        "colab": {}
      },
      "source": [
        "ecars.to_csv('clean_ecars.csv')"
      ],
      "execution_count": 0,
      "outputs": []
    },
    {
      "cell_type": "markdown",
      "metadata": {
        "colab_type": "text",
        "id": "wKaW8Aw5974d"
      },
      "source": [
        "# **Analysis of the Data**"
      ]
    },
    {
      "cell_type": "markdown",
      "metadata": {
        "id": "UMvDZzsutxzM",
        "colab_type": "text"
      },
      "source": [
        "### **Bluecars**"
      ]
    },
    {
      "cell_type": "code",
      "metadata": {
        "id": "MEVdTjQTt0ih",
        "colab_type": "code",
        "colab": {}
      },
      "source": [
        "#The dataset for bluecars\n",
        "ecars = pd.read_csv('/content/clean_ecars.csv')"
      ],
      "execution_count": 0,
      "outputs": []
    },
    {
      "cell_type": "code",
      "metadata": {
        "id": "m-s_ApJgQN0w",
        "colab_type": "code",
        "outputId": "01a396e3-a9a3-46d7-d20a-08cefa7630ac",
        "colab": {
          "base_uri": "https://localhost:8080/",
          "height": 51
        }
      },
      "source": [
        "# 1.What was the most popular hour of the day for picking up a shared electric car(Bluecar) in the city of Paris over the Month of April\n",
        "ecars[(ecars['bluecar_counter'] == 0) & (ecars['city'] == 'Paris')]['hour'].value_counts().nlargest(1)"
      ],
      "execution_count": 0,
      "outputs": [
        {
          "output_type": "execute_result",
          "data": {
            "text/plain": [
              "23    42\n",
              "Name: hour, dtype: int64"
            ]
          },
          "metadata": {
            "tags": []
          },
          "execution_count": 22
        }
      ]
    },
    {
      "cell_type": "code",
      "metadata": {
        "id": "9D2u7F-K79tp",
        "colab_type": "code",
        "outputId": "a6d19a4b-4b4e-44b7-c9fd-4157b11e9da0",
        "colab": {
          "base_uri": "https://localhost:8080/",
          "height": 51
        }
      },
      "source": [
        "# 2. What is the most popular hour for returning cars\n",
        "ecars[(ecars['bluecar_counter']) & (ecars['slots'] == 0)]['hour'].value_counts().nlargest(1)"
      ],
      "execution_count": 0,
      "outputs": [
        {
          "output_type": "execute_result",
          "data": {
            "text/plain": [
              "12    33\n",
              "Name: hour, dtype: int64"
            ]
          },
          "metadata": {
            "tags": []
          },
          "execution_count": 23
        }
      ]
    },
    {
      "cell_type": "code",
      "metadata": {
        "id": "do9i2x-P_qlG",
        "colab_type": "code",
        "outputId": "90ad21ed-2dce-4159-b825-6732dfdf7d1d",
        "colab": {
          "base_uri": "https://localhost:8080/",
          "height": 68
        }
      },
      "source": [
        "# 3.0 What station is the most popular. Overall?\n",
        "ecars['bluecar_counter'].groupby(ecars['address']).count().nlargest(1)\n"
      ],
      "execution_count": 0,
      "outputs": [
        {
          "output_type": "execute_result",
          "data": {
            "text/plain": [
              "address\n",
              "8 Avenue de la Porte de Montrouge    13\n",
              "Name: bluecar_counter, dtype: int64"
            ]
          },
          "metadata": {
            "tags": []
          },
          "execution_count": 48
        }
      ]
    },
    {
      "cell_type": "code",
      "metadata": {
        "id": "DuDqNqDnCa_y",
        "colab_type": "code",
        "outputId": "6556233f-0e85-4e77-9333-043dd8005af7",
        "colab": {
          "base_uri": "https://localhost:8080/",
          "height": 80
        }
      },
      "source": [
        "# 3.1 What station is the most popular, at the most popular picking hour?\n",
        "\n",
        "ecars[(ecars['bluecar_counter'] == 0) & (ecars['hour'].value_counts())].sort_values(by = 'hour')[['address','hour']].nlargest(1,'hour')"
      ],
      "execution_count": 0,
      "outputs": [
        {
          "output_type": "execute_result",
          "data": {
            "text/html": [
              "<div>\n",
              "<style scoped>\n",
              "    .dataframe tbody tr th:only-of-type {\n",
              "        vertical-align: middle;\n",
              "    }\n",
              "\n",
              "    .dataframe tbody tr th {\n",
              "        vertical-align: top;\n",
              "    }\n",
              "\n",
              "    .dataframe thead th {\n",
              "        text-align: right;\n",
              "    }\n",
              "</style>\n",
              "<table border=\"1\" class=\"dataframe\">\n",
              "  <thead>\n",
              "    <tr style=\"text-align: right;\">\n",
              "      <th></th>\n",
              "      <th>address</th>\n",
              "      <th>hour</th>\n",
              "    </tr>\n",
              "  </thead>\n",
              "  <tbody>\n",
              "    <tr>\n",
              "      <th>11</th>\n",
              "      <td>1 avenue Ãmile Laurent</td>\n",
              "      <td>14</td>\n",
              "    </tr>\n",
              "  </tbody>\n",
              "</table>\n",
              "</div>"
            ],
            "text/plain": [
              "                    address  hour\n",
              "11  1 avenue Ãmile Laurent    14"
            ]
          },
          "metadata": {
            "tags": []
          },
          "execution_count": 59
        }
      ]
    },
    {
      "cell_type": "code",
      "metadata": {
        "id": "t_hipMs3GNgE",
        "colab_type": "code",
        "outputId": "e604cb51-841c-4e35-fb1c-dbd0af704480",
        "colab": {
          "base_uri": "https://localhost:8080/",
          "height": 68
        }
      },
      "source": [
        "\n",
        "# 4.0 What postal code is the most popular postal code, overall?\n",
        "ecars.groupby('postal_code')['bluecar_counter'].count().nlargest(1)"
      ],
      "execution_count": 0,
      "outputs": [
        {
          "output_type": "execute_result",
          "data": {
            "text/plain": [
              "postal_code\n",
              "75015    249\n",
              "Name: bluecar_counter, dtype: int64"
            ]
          },
          "metadata": {
            "tags": []
          },
          "execution_count": 74
        }
      ]
    },
    {
      "cell_type": "code",
      "metadata": {
        "id": "ngejCNjb15us",
        "colab_type": "code",
        "outputId": "36465140-20c9-48a2-988a-2bced13450b4",
        "colab": {
          "base_uri": "https://localhost:8080/",
          "height": 68
        }
      },
      "source": [
        "# 4.0.1  Does the most popular station belong to that postal code\n",
        "ecars.groupby(['address','postal_code'])['bluecar_counter'].count().sort_values(ascending =False).nlargest(1)\n",
        "                                                                                                           "
      ],
      "execution_count": 0,
      "outputs": [
        {
          "output_type": "execute_result",
          "data": {
            "text/plain": [
              "address                            postal_code\n",
              "8 Avenue de la Porte de Montrouge  75014          13\n",
              "Name: bluecar_counter, dtype: int64"
            ]
          },
          "metadata": {
            "tags": []
          },
          "execution_count": 75
        }
      ]
    },
    {
      "cell_type": "code",
      "metadata": {
        "id": "jZXL7-lQKSiO",
        "colab_type": "code",
        "outputId": "738a269a-b713-4dc2-de7a-3b89a34955f9",
        "colab": {
          "base_uri": "https://localhost:8080/",
          "height": 80
        }
      },
      "source": [
        "# 4.1 What postal code is the most popular postal code, at the most popular picking hour?\n",
        "ecars[(ecars['bluecar_counter'] == 0)& (ecars['hour'].value_counts())][['postal_code','hour']].nlargest(1,'hour')"
      ],
      "execution_count": 0,
      "outputs": [
        {
          "output_type": "execute_result",
          "data": {
            "text/html": [
              "<div>\n",
              "<style scoped>\n",
              "    .dataframe tbody tr th:only-of-type {\n",
              "        vertical-align: middle;\n",
              "    }\n",
              "\n",
              "    .dataframe tbody tr th {\n",
              "        vertical-align: top;\n",
              "    }\n",
              "\n",
              "    .dataframe thead th {\n",
              "        text-align: right;\n",
              "    }\n",
              "</style>\n",
              "<table border=\"1\" class=\"dataframe\">\n",
              "  <thead>\n",
              "    <tr style=\"text-align: right;\">\n",
              "      <th></th>\n",
              "      <th>postal_code</th>\n",
              "      <th>hour</th>\n",
              "    </tr>\n",
              "  </thead>\n",
              "  <tbody>\n",
              "    <tr>\n",
              "      <th>11</th>\n",
              "      <td>75012</td>\n",
              "      <td>14</td>\n",
              "    </tr>\n",
              "  </tbody>\n",
              "</table>\n",
              "</div>"
            ],
            "text/plain": [
              "    postal_code  hour\n",
              "11        75012    14"
            ]
          },
          "metadata": {
            "tags": []
          },
          "execution_count": 51
        }
      ]
    },
    {
      "cell_type": "code",
      "metadata": {
        "id": "XFbyGCiczm-b",
        "colab_type": "code",
        "outputId": "b8fe811a-47c2-4ff8-da73-ba9614153da6",
        "colab": {
          "base_uri": "https://localhost:8080/",
          "height": 80
        }
      },
      "source": [
        "# 4.1.1  Does the most popular station belong to that postal code\n",
        "ecars[(ecars['bluecar_counter'] == 0)& (ecars['hour'].value_counts())][['address','postal_code','hour']].nlargest(1,'hour')"
      ],
      "execution_count": 0,
      "outputs": [
        {
          "output_type": "execute_result",
          "data": {
            "text/html": [
              "<div>\n",
              "<style scoped>\n",
              "    .dataframe tbody tr th:only-of-type {\n",
              "        vertical-align: middle;\n",
              "    }\n",
              "\n",
              "    .dataframe tbody tr th {\n",
              "        vertical-align: top;\n",
              "    }\n",
              "\n",
              "    .dataframe thead th {\n",
              "        text-align: right;\n",
              "    }\n",
              "</style>\n",
              "<table border=\"1\" class=\"dataframe\">\n",
              "  <thead>\n",
              "    <tr style=\"text-align: right;\">\n",
              "      <th></th>\n",
              "      <th>address</th>\n",
              "      <th>postal_code</th>\n",
              "      <th>hour</th>\n",
              "    </tr>\n",
              "  </thead>\n",
              "  <tbody>\n",
              "    <tr>\n",
              "      <th>11</th>\n",
              "      <td>1 avenue Ãmile Laurent</td>\n",
              "      <td>75012</td>\n",
              "      <td>14</td>\n",
              "    </tr>\n",
              "  </tbody>\n",
              "</table>\n",
              "</div>"
            ],
            "text/plain": [
              "                    address  postal_code  hour\n",
              "11  1 avenue Ãmile Laurent        75012    14"
            ]
          },
          "metadata": {
            "tags": []
          },
          "execution_count": 57
        }
      ]
    },
    {
      "cell_type": "markdown",
      "metadata": {
        "id": "aHdGEoV3ghzr",
        "colab_type": "text"
      },
      "source": [
        "### **Utilib**"
      ]
    },
    {
      "cell_type": "code",
      "metadata": {
        "id": "BPO25ogHU9S4",
        "colab_type": "code",
        "outputId": "60a3a6c0-27a3-4147-d5b7-d784d1171b1c",
        "colab": {
          "base_uri": "https://localhost:8080/",
          "height": 51
        }
      },
      "source": [
        "# 1.What was the most popular hour of the day for picking up a shared electric car(Utilib) in the city of Paris over the Month of April\n",
        "ecars[(ecars['utilib_counter'] == 0) & (ecars['city'] == 'Paris')]['hour'].value_counts().nlargest(1)"
      ],
      "execution_count": 0,
      "outputs": [
        {
          "output_type": "execute_result",
          "data": {
            "text/plain": [
              "21    125\n",
              "Name: hour, dtype: int64"
            ]
          },
          "metadata": {
            "tags": []
          },
          "execution_count": 28
        }
      ]
    },
    {
      "cell_type": "code",
      "metadata": {
        "id": "5EU55RI5g2l6",
        "colab_type": "code",
        "outputId": "aa133dd1-b22c-4b05-fdbe-e9a969eb4e0b",
        "colab": {
          "base_uri": "https://localhost:8080/",
          "height": 51
        }
      },
      "source": [
        "# 2. What is the most popular hour for returning cars\n",
        "ecars.loc[(ecars['utilib_counter']) & (ecars['slots'] == 0)]['hour'].value_counts().nlargest(1)"
      ],
      "execution_count": 0,
      "outputs": [
        {
          "output_type": "execute_result",
          "data": {
            "text/plain": [
              "5    11\n",
              "Name: hour, dtype: int64"
            ]
          },
          "metadata": {
            "tags": []
          },
          "execution_count": 29
        }
      ]
    },
    {
      "cell_type": "code",
      "metadata": {
        "id": "2TOYH1PmhOFm",
        "colab_type": "code",
        "outputId": "110cad09-2904-48bb-c447-a5b9f4ecd4b2",
        "colab": {
          "base_uri": "https://localhost:8080/",
          "height": 68
        }
      },
      "source": [
        "# 3. What station is the most popular. Overall?\n",
        "ecars['utilib_counter'].groupby(ecars['address']).count().sort_values(ascending = False).nlargest(1)"
      ],
      "execution_count": 0,
      "outputs": [
        {
          "output_type": "execute_result",
          "data": {
            "text/plain": [
              "address\n",
              "8 Avenue de la Porte de Montrouge    13\n",
              "Name: utilib_counter, dtype: int64"
            ]
          },
          "metadata": {
            "tags": []
          },
          "execution_count": 79
        }
      ]
    },
    {
      "cell_type": "code",
      "metadata": {
        "id": "INobRglKh8gG",
        "colab_type": "code",
        "outputId": "e0a78927-894d-484d-e294-33c13be3d643",
        "colab": {
          "base_uri": "https://localhost:8080/",
          "height": 80
        }
      },
      "source": [
        "# 3.1 What station is the most popular, at the most popular picking hour?\n",
        "ecars[(ecars['utilib_counter'] == 0) & (ecars['hour'].value_counts())].sort_values(by = 'hour')[['address','hour']].nlargest(1,'hour')"
      ],
      "execution_count": 0,
      "outputs": [
        {
          "output_type": "execute_result",
          "data": {
            "text/html": [
              "<div>\n",
              "<style scoped>\n",
              "    .dataframe tbody tr th:only-of-type {\n",
              "        vertical-align: middle;\n",
              "    }\n",
              "\n",
              "    .dataframe tbody tr th {\n",
              "        vertical-align: top;\n",
              "    }\n",
              "\n",
              "    .dataframe thead th {\n",
              "        text-align: right;\n",
              "    }\n",
              "</style>\n",
              "<table border=\"1\" class=\"dataframe\">\n",
              "  <thead>\n",
              "    <tr style=\"text-align: right;\">\n",
              "      <th></th>\n",
              "      <th>address</th>\n",
              "      <th>hour</th>\n",
              "    </tr>\n",
              "  </thead>\n",
              "  <tbody>\n",
              "    <tr>\n",
              "      <th>1</th>\n",
              "      <td>1 allÃ©e Parc LagravÃ¨re</td>\n",
              "      <td>22</td>\n",
              "    </tr>\n",
              "  </tbody>\n",
              "</table>\n",
              "</div>"
            ],
            "text/plain": [
              "                    address  hour\n",
              "1  1 allÃ©e Parc LagravÃ¨re    22"
            ]
          },
          "metadata": {
            "tags": []
          },
          "execution_count": 80
        }
      ]
    },
    {
      "cell_type": "code",
      "metadata": {
        "id": "pDItVhoi575t",
        "colab_type": "code",
        "outputId": "10430658-cf6a-43ec-ba5f-1609fffd6244",
        "colab": {
          "base_uri": "https://localhost:8080/",
          "height": 68
        }
      },
      "source": [
        "# 4.0 What postal code is the most popular postal code, overall?\n",
        "ecars.groupby('postal_code')['utilib_counter'].count().nlargest(1)"
      ],
      "execution_count": 0,
      "outputs": [
        {
          "output_type": "execute_result",
          "data": {
            "text/plain": [
              "postal_code\n",
              "75015    249\n",
              "Name: utilib_counter, dtype: int64"
            ]
          },
          "metadata": {
            "tags": []
          },
          "execution_count": 81
        }
      ]
    },
    {
      "cell_type": "code",
      "metadata": {
        "id": "aoUOSO8T6TCd",
        "colab_type": "code",
        "outputId": "089f854f-2409-4a8e-c534-e8f0f7339904",
        "colab": {
          "base_uri": "https://localhost:8080/",
          "height": 68
        }
      },
      "source": [
        "# 4.0.1  Does the most popular station belong to that postal code\n",
        "ecars.groupby(['address','postal_code'])['utilib_counter'].count().sort_values(ascending =False).nlargest(1)"
      ],
      "execution_count": 0,
      "outputs": [
        {
          "output_type": "execute_result",
          "data": {
            "text/plain": [
              "address                            postal_code\n",
              "8 Avenue de la Porte de Montrouge  75014          13\n",
              "Name: utilib_counter, dtype: int64"
            ]
          },
          "metadata": {
            "tags": []
          },
          "execution_count": 82
        }
      ]
    },
    {
      "cell_type": "code",
      "metadata": {
        "id": "QhZyXWjX6fPm",
        "colab_type": "code",
        "outputId": "f25d7ebe-6fcc-4eba-b1ab-a6344b1f0613",
        "colab": {
          "base_uri": "https://localhost:8080/",
          "height": 80
        }
      },
      "source": [
        "# 4.1 What postal code is the most popular postal code, at the most popular picking hour?\n",
        "ecars[(ecars['utilib_counter'] == 0)& (ecars['hour'].value_counts())][['postal_code','hour']].nlargest(1,'hour')"
      ],
      "execution_count": 0,
      "outputs": [
        {
          "output_type": "execute_result",
          "data": {
            "text/html": [
              "<div>\n",
              "<style scoped>\n",
              "    .dataframe tbody tr th:only-of-type {\n",
              "        vertical-align: middle;\n",
              "    }\n",
              "\n",
              "    .dataframe tbody tr th {\n",
              "        vertical-align: top;\n",
              "    }\n",
              "\n",
              "    .dataframe thead th {\n",
              "        text-align: right;\n",
              "    }\n",
              "</style>\n",
              "<table border=\"1\" class=\"dataframe\">\n",
              "  <thead>\n",
              "    <tr style=\"text-align: right;\">\n",
              "      <th></th>\n",
              "      <th>postal_code</th>\n",
              "      <th>hour</th>\n",
              "    </tr>\n",
              "  </thead>\n",
              "  <tbody>\n",
              "    <tr>\n",
              "      <th>1</th>\n",
              "      <td>92700</td>\n",
              "      <td>22</td>\n",
              "    </tr>\n",
              "  </tbody>\n",
              "</table>\n",
              "</div>"
            ],
            "text/plain": [
              "   postal_code  hour\n",
              "1        92700    22"
            ]
          },
          "metadata": {
            "tags": []
          },
          "execution_count": 83
        }
      ]
    },
    {
      "cell_type": "code",
      "metadata": {
        "id": "NNEcmOvU6wX8",
        "colab_type": "code",
        "outputId": "17ec4566-673f-498b-b205-de9f80582e9a",
        "colab": {
          "base_uri": "https://localhost:8080/",
          "height": 80
        }
      },
      "source": [
        "# 4.1.1  Does the most popular station belong to that postal code\n",
        "ecars[(ecars['utilib_counter'] == 0)& (ecars['hour'].value_counts())][['address','postal_code','hour']].nlargest(1,'hour')"
      ],
      "execution_count": 0,
      "outputs": [
        {
          "output_type": "execute_result",
          "data": {
            "text/html": [
              "<div>\n",
              "<style scoped>\n",
              "    .dataframe tbody tr th:only-of-type {\n",
              "        vertical-align: middle;\n",
              "    }\n",
              "\n",
              "    .dataframe tbody tr th {\n",
              "        vertical-align: top;\n",
              "    }\n",
              "\n",
              "    .dataframe thead th {\n",
              "        text-align: right;\n",
              "    }\n",
              "</style>\n",
              "<table border=\"1\" class=\"dataframe\">\n",
              "  <thead>\n",
              "    <tr style=\"text-align: right;\">\n",
              "      <th></th>\n",
              "      <th>address</th>\n",
              "      <th>postal_code</th>\n",
              "      <th>hour</th>\n",
              "    </tr>\n",
              "  </thead>\n",
              "  <tbody>\n",
              "    <tr>\n",
              "      <th>1</th>\n",
              "      <td>1 allÃ©e Parc LagravÃ¨re</td>\n",
              "      <td>92700</td>\n",
              "      <td>22</td>\n",
              "    </tr>\n",
              "  </tbody>\n",
              "</table>\n",
              "</div>"
            ],
            "text/plain": [
              "                    address  postal_code  hour\n",
              "1  1 allÃ©e Parc LagravÃ¨re        92700    22"
            ]
          },
          "metadata": {
            "tags": []
          },
          "execution_count": 85
        }
      ]
    },
    {
      "cell_type": "markdown",
      "metadata": {
        "id": "85wLUws871hv",
        "colab_type": "text"
      },
      "source": [
        "### **Utilib** **1.4** "
      ]
    },
    {
      "cell_type": "code",
      "metadata": {
        "id": "P2jpVqEl64AN",
        "colab_type": "code",
        "colab": {
          "base_uri": "https://localhost:8080/",
          "height": 51
        },
        "outputId": "b8763226-a0e0-476f-94dd-d807a9f940e0"
      },
      "source": [
        "# 1.What was the most popular hour of the day for picking up a shared electric car(Utilib 1.4) in the city of Paris over the Month of April\n",
        "ecars[(ecars['utilib_1.4_counter'] == 0) & (ecars['city'] == 'Paris')]['hour'].value_counts().nlargest(1)"
      ],
      "execution_count": 91,
      "outputs": [
        {
          "output_type": "execute_result",
          "data": {
            "text/plain": [
              "21    114\n",
              "Name: hour, dtype: int64"
            ]
          },
          "metadata": {
            "tags": []
          },
          "execution_count": 91
        }
      ]
    },
    {
      "cell_type": "code",
      "metadata": {
        "id": "VTwYVJlh-piG",
        "colab_type": "code",
        "colab": {
          "base_uri": "https://localhost:8080/",
          "height": 51
        },
        "outputId": "ebe12c3a-17d7-4781-ee0d-177e5f27c263"
      },
      "source": [
        "# 2. What is the most popular hour for returning cars\n",
        "ecars.loc[(ecars['utilib_1.4_counter']) & (ecars['slots'] == 0)]['hour'].value_counts().nlargest(1)"
      ],
      "execution_count": 92,
      "outputs": [
        {
          "output_type": "execute_result",
          "data": {
            "text/plain": [
              "3    18\n",
              "Name: hour, dtype: int64"
            ]
          },
          "metadata": {
            "tags": []
          },
          "execution_count": 92
        }
      ]
    },
    {
      "cell_type": "code",
      "metadata": {
        "id": "F0tq0MlWA6kL",
        "colab_type": "code",
        "colab": {
          "base_uri": "https://localhost:8080/",
          "height": 68
        },
        "outputId": "b0177f1c-bd8e-4745-a840-fd89548a49d4"
      },
      "source": [
        "# 3. What station is the most popular. Overall?\n",
        "ecars['utilib_1.4_counter'].groupby(ecars['address']).count().sort_values(ascending = False).nlargest(1)"
      ],
      "execution_count": 94,
      "outputs": [
        {
          "output_type": "execute_result",
          "data": {
            "text/plain": [
              "address\n",
              "8 Avenue de la Porte de Montrouge    13\n",
              "Name: utilib_1.4_counter, dtype: int64"
            ]
          },
          "metadata": {
            "tags": []
          },
          "execution_count": 94
        }
      ]
    },
    {
      "cell_type": "code",
      "metadata": {
        "id": "llyOiU8xBDGe",
        "colab_type": "code",
        "colab": {
          "base_uri": "https://localhost:8080/",
          "height": 80
        },
        "outputId": "d2b3fcc7-a8bc-433c-848a-51eb0781bd24"
      },
      "source": [
        "# 3.1 What station is the most popular, at the most popular picking hour?\n",
        "ecars[(ecars['utilib_1.4_counter'] == 0) & (ecars['hour'].value_counts())].sort_values(by = 'hour')[['address','hour']].nlargest(1,'hour')"
      ],
      "execution_count": 93,
      "outputs": [
        {
          "output_type": "execute_result",
          "data": {
            "text/html": [
              "<div>\n",
              "<style scoped>\n",
              "    .dataframe tbody tr th:only-of-type {\n",
              "        vertical-align: middle;\n",
              "    }\n",
              "\n",
              "    .dataframe tbody tr th {\n",
              "        vertical-align: top;\n",
              "    }\n",
              "\n",
              "    .dataframe thead th {\n",
              "        text-align: right;\n",
              "    }\n",
              "</style>\n",
              "<table border=\"1\" class=\"dataframe\">\n",
              "  <thead>\n",
              "    <tr style=\"text-align: right;\">\n",
              "      <th></th>\n",
              "      <th>address</th>\n",
              "      <th>hour</th>\n",
              "    </tr>\n",
              "  </thead>\n",
              "  <tbody>\n",
              "    <tr>\n",
              "      <th>1</th>\n",
              "      <td>1 allÃ©e Parc LagravÃ¨re</td>\n",
              "      <td>22</td>\n",
              "    </tr>\n",
              "  </tbody>\n",
              "</table>\n",
              "</div>"
            ],
            "text/plain": [
              "                    address  hour\n",
              "1  1 allÃ©e Parc LagravÃ¨re    22"
            ]
          },
          "metadata": {
            "tags": []
          },
          "execution_count": 93
        }
      ]
    },
    {
      "cell_type": "code",
      "metadata": {
        "id": "pqYoL2Q6BJBX",
        "colab_type": "code",
        "colab": {
          "base_uri": "https://localhost:8080/",
          "height": 68
        },
        "outputId": "84b514be-d37a-41b0-8bf1-74b40dc61718"
      },
      "source": [
        "# 4.0 What postal code is the most popular postal code, overall?\n",
        "ecars.groupby('postal_code')['utilib_1.4_counter'].count().nlargest(1)"
      ],
      "execution_count": 95,
      "outputs": [
        {
          "output_type": "execute_result",
          "data": {
            "text/plain": [
              "postal_code\n",
              "75015    249\n",
              "Name: utilib_1.4_counter, dtype: int64"
            ]
          },
          "metadata": {
            "tags": []
          },
          "execution_count": 95
        }
      ]
    },
    {
      "cell_type": "code",
      "metadata": {
        "id": "GpKU1ozzBVjw",
        "colab_type": "code",
        "colab": {
          "base_uri": "https://localhost:8080/",
          "height": 68
        },
        "outputId": "9237ca2b-a676-4ef8-ea1f-7dbc57a1545e"
      },
      "source": [
        "# 4.0.1  Does the most popular station belong to that postal code\n",
        "ecars.groupby(['address','postal_code'])['utilib_1.4_counter'].count().sort_values(ascending =False).nlargest(1)"
      ],
      "execution_count": 96,
      "outputs": [
        {
          "output_type": "execute_result",
          "data": {
            "text/plain": [
              "address                            postal_code\n",
              "8 Avenue de la Porte de Montrouge  75014          13\n",
              "Name: utilib_1.4_counter, dtype: int64"
            ]
          },
          "metadata": {
            "tags": []
          },
          "execution_count": 96
        }
      ]
    },
    {
      "cell_type": "code",
      "metadata": {
        "id": "0m_xhjyBBgPu",
        "colab_type": "code",
        "colab": {
          "base_uri": "https://localhost:8080/",
          "height": 80
        },
        "outputId": "e1877505-5b04-47fc-bda2-062f8ec0aac6"
      },
      "source": [
        "# 4.1 What postal code is the most popular postal code, at the most popular picking hour?\n",
        "ecars[(ecars['utilib_1.4_counter'] == 0)& (ecars['hour'].value_counts())][['postal_code','hour']].nlargest(1,'hour')"
      ],
      "execution_count": 97,
      "outputs": [
        {
          "output_type": "execute_result",
          "data": {
            "text/html": [
              "<div>\n",
              "<style scoped>\n",
              "    .dataframe tbody tr th:only-of-type {\n",
              "        vertical-align: middle;\n",
              "    }\n",
              "\n",
              "    .dataframe tbody tr th {\n",
              "        vertical-align: top;\n",
              "    }\n",
              "\n",
              "    .dataframe thead th {\n",
              "        text-align: right;\n",
              "    }\n",
              "</style>\n",
              "<table border=\"1\" class=\"dataframe\">\n",
              "  <thead>\n",
              "    <tr style=\"text-align: right;\">\n",
              "      <th></th>\n",
              "      <th>postal_code</th>\n",
              "      <th>hour</th>\n",
              "    </tr>\n",
              "  </thead>\n",
              "  <tbody>\n",
              "    <tr>\n",
              "      <th>1</th>\n",
              "      <td>92700</td>\n",
              "      <td>22</td>\n",
              "    </tr>\n",
              "  </tbody>\n",
              "</table>\n",
              "</div>"
            ],
            "text/plain": [
              "   postal_code  hour\n",
              "1        92700    22"
            ]
          },
          "metadata": {
            "tags": []
          },
          "execution_count": 97
        }
      ]
    },
    {
      "cell_type": "code",
      "metadata": {
        "id": "3whc-6UtCFOR",
        "colab_type": "code",
        "colab": {
          "base_uri": "https://localhost:8080/",
          "height": 80
        },
        "outputId": "ac8cc390-2da4-4a1a-d42a-e1851d1b7c86"
      },
      "source": [
        "# 4.1.1  Does the most popular station belong to that postal code\n",
        "ecars[(ecars['utilib_1.4_counter'] == 0)& (ecars['hour'].value_counts())][['address','postal_code','hour']].nlargest(1,'hour')"
      ],
      "execution_count": 98,
      "outputs": [
        {
          "output_type": "execute_result",
          "data": {
            "text/html": [
              "<div>\n",
              "<style scoped>\n",
              "    .dataframe tbody tr th:only-of-type {\n",
              "        vertical-align: middle;\n",
              "    }\n",
              "\n",
              "    .dataframe tbody tr th {\n",
              "        vertical-align: top;\n",
              "    }\n",
              "\n",
              "    .dataframe thead th {\n",
              "        text-align: right;\n",
              "    }\n",
              "</style>\n",
              "<table border=\"1\" class=\"dataframe\">\n",
              "  <thead>\n",
              "    <tr style=\"text-align: right;\">\n",
              "      <th></th>\n",
              "      <th>address</th>\n",
              "      <th>postal_code</th>\n",
              "      <th>hour</th>\n",
              "    </tr>\n",
              "  </thead>\n",
              "  <tbody>\n",
              "    <tr>\n",
              "      <th>1</th>\n",
              "      <td>1 allÃ©e Parc LagravÃ¨re</td>\n",
              "      <td>92700</td>\n",
              "      <td>22</td>\n",
              "    </tr>\n",
              "  </tbody>\n",
              "</table>\n",
              "</div>"
            ],
            "text/plain": [
              "                    address  postal_code  hour\n",
              "1  1 allÃ©e Parc LagravÃ¨re        92700    22"
            ]
          },
          "metadata": {
            "tags": []
          },
          "execution_count": 98
        }
      ]
    }
  ]
}